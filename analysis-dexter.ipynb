{
 "cells": [
  {
   "cell_type": "markdown",
   "id": "28353d0a",
   "metadata": {},
   "source": [
    "# Analyzing Marketplace-collected commute data\n",
    "As part of the test for Marketplace's episode on \"Canada's Worst Commute\", we asked our audience to submit their commute to us. We then tracked this commute for a minimum of 30 days. This notebook analyzes those results."
   ]
  },
  {
   "cell_type": "code",
   "execution_count": 14,
   "id": "1733faaf",
   "metadata": {},
   "outputs": [],
   "source": [
    "import gcsfs\n",
    "import pandas as pd"
   ]
  },
  {
   "cell_type": "markdown",
   "id": "052bb41c",
   "metadata": {},
   "source": [
    "Now we read in our data from the Google bucket."
   ]
  },
  {
   "cell_type": "code",
   "execution_count": 15,
   "id": "07fc2509",
   "metadata": {},
   "outputs": [
    {
     "name": "stdout",
     "output_type": "stream",
     "text": [
      "['marketplace-commutes/commute_routes_atlantic.csv', 'marketplace-commutes/commute_routes_central.csv', 'marketplace-commutes/commute_routes_eastern.csv', 'marketplace-commutes/commute_routes_mountain.csv', 'marketplace-commutes/commute_routes_pacific.csv']\n"
     ]
    },
    {
     "data": {
      "text/html": [
       "<div>\n",
       "<style scoped>\n",
       "    .dataframe tbody tr th:only-of-type {\n",
       "        vertical-align: middle;\n",
       "    }\n",
       "\n",
       "    .dataframe tbody tr th {\n",
       "        vertical-align: top;\n",
       "    }\n",
       "\n",
       "    .dataframe thead th {\n",
       "        text-align: right;\n",
       "    }\n",
       "</style>\n",
       "<table border=\"1\" class=\"dataframe\">\n",
       "  <thead>\n",
       "    <tr style=\"text-align: right;\">\n",
       "      <th></th>\n",
       "      <th>origin</th>\n",
       "      <th>destination</th>\n",
       "      <th>travel_mode</th>\n",
       "      <th>distance_km</th>\n",
       "      <th>duration_min</th>\n",
       "      <th>warnings</th>\n",
       "      <th>line_geometry</th>\n",
       "      <th>timestamp</th>\n",
       "      <th>timezone</th>\n",
       "      <th>route_id</th>\n",
       "      <th>timestamp_local</th>\n",
       "    </tr>\n",
       "  </thead>\n",
       "  <tbody>\n",
       "    <tr>\n",
       "      <th>0</th>\n",
       "      <td>Larry Uteck, Halifax</td>\n",
       "      <td>Hospital in Halifax</td>\n",
       "      <td>DRIVE</td>\n",
       "      <td>10.113</td>\n",
       "      <td>20</td>\n",
       "      <td>NaN</td>\n",
       "      <td>LINESTRING (-63.67528 44.70207, -63.67451 44.7...</td>\n",
       "      <td>2025-08-26 20:10:05+00:00</td>\n",
       "      <td>America/Halifax</td>\n",
       "      <td>Larry Uteck, Halifax to Hospital in Halifax</td>\n",
       "      <td>2025-08-26 17:10:05-03:00</td>\n",
       "    </tr>\n",
       "    <tr>\n",
       "      <th>1</th>\n",
       "      <td>Windsor Street, Halifax</td>\n",
       "      <td>St. Margaret's Bay Road, Halifax</td>\n",
       "      <td>DRIVE</td>\n",
       "      <td>5.678</td>\n",
       "      <td>13</td>\n",
       "      <td>NaN</td>\n",
       "      <td>LINESTRING (-63.60553 44.65555, -63.60527 44.6...</td>\n",
       "      <td>2025-08-26 20:10:05+00:00</td>\n",
       "      <td>America/Halifax</td>\n",
       "      <td>Windsor Street, Halifax to St. Margaret's Bay ...</td>\n",
       "      <td>2025-08-26 17:10:05-03:00</td>\n",
       "    </tr>\n",
       "    <tr>\n",
       "      <th>2</th>\n",
       "      <td>Armdale, Halifax</td>\n",
       "      <td>Bayers Lake, Halifax</td>\n",
       "      <td>DRIVE</td>\n",
       "      <td>7.775</td>\n",
       "      <td>12</td>\n",
       "      <td>NaN</td>\n",
       "      <td>LINESTRING (-63.60788 44.63002, -63.60795 44.6...</td>\n",
       "      <td>2025-08-26 20:10:06+00:00</td>\n",
       "      <td>America/Halifax</td>\n",
       "      <td>Armdale, Halifax to Bayers Lake, Halifax</td>\n",
       "      <td>2025-08-26 17:10:06-03:00</td>\n",
       "    </tr>\n",
       "    <tr>\n",
       "      <th>3</th>\n",
       "      <td>North End, Halifax</td>\n",
       "      <td>Macdonald Bridge, Halifax</td>\n",
       "      <td>BICYCLE</td>\n",
       "      <td>1.723</td>\n",
       "      <td>10</td>\n",
       "      <td>NaN</td>\n",
       "      <td>LINESTRING (-63.60227 44.65962, -63.60234 44.6...</td>\n",
       "      <td>2025-08-26 20:10:06+00:00</td>\n",
       "      <td>America/Halifax</td>\n",
       "      <td>North End, Halifax to Macdonald Bridge, Halifax</td>\n",
       "      <td>2025-08-26 17:10:06-03:00</td>\n",
       "    </tr>\n",
       "    <tr>\n",
       "      <th>4</th>\n",
       "      <td>Larry Uteck, Halifax</td>\n",
       "      <td>Hospital in Halifax</td>\n",
       "      <td>DRIVE</td>\n",
       "      <td>10.113</td>\n",
       "      <td>21</td>\n",
       "      <td>NaN</td>\n",
       "      <td>LINESTRING (-63.67528 44.70207, -63.67451 44.7...</td>\n",
       "      <td>2025-08-26 20:20:05+00:00</td>\n",
       "      <td>America/Halifax</td>\n",
       "      <td>Larry Uteck, Halifax to Hospital in Halifax</td>\n",
       "      <td>2025-08-26 17:20:05-03:00</td>\n",
       "    </tr>\n",
       "  </tbody>\n",
       "</table>\n",
       "</div>"
      ],
      "text/plain": [
       "                    origin                       destination travel_mode  \\\n",
       "0     Larry Uteck, Halifax               Hospital in Halifax       DRIVE   \n",
       "1  Windsor Street, Halifax  St. Margaret's Bay Road, Halifax       DRIVE   \n",
       "2         Armdale, Halifax              Bayers Lake, Halifax       DRIVE   \n",
       "3       North End, Halifax         Macdonald Bridge, Halifax     BICYCLE   \n",
       "4     Larry Uteck, Halifax               Hospital in Halifax       DRIVE   \n",
       "\n",
       "   distance_km  duration_min warnings  \\\n",
       "0       10.113            20      NaN   \n",
       "1        5.678            13      NaN   \n",
       "2        7.775            12      NaN   \n",
       "3        1.723            10      NaN   \n",
       "4       10.113            21      NaN   \n",
       "\n",
       "                                       line_geometry  \\\n",
       "0  LINESTRING (-63.67528 44.70207, -63.67451 44.7...   \n",
       "1  LINESTRING (-63.60553 44.65555, -63.60527 44.6...   \n",
       "2  LINESTRING (-63.60788 44.63002, -63.60795 44.6...   \n",
       "3  LINESTRING (-63.60227 44.65962, -63.60234 44.6...   \n",
       "4  LINESTRING (-63.67528 44.70207, -63.67451 44.7...   \n",
       "\n",
       "                  timestamp         timezone  \\\n",
       "0 2025-08-26 20:10:05+00:00  America/Halifax   \n",
       "1 2025-08-26 20:10:05+00:00  America/Halifax   \n",
       "2 2025-08-26 20:10:06+00:00  America/Halifax   \n",
       "3 2025-08-26 20:10:06+00:00  America/Halifax   \n",
       "4 2025-08-26 20:20:05+00:00  America/Halifax   \n",
       "\n",
       "                                            route_id  \\\n",
       "0        Larry Uteck, Halifax to Hospital in Halifax   \n",
       "1  Windsor Street, Halifax to St. Margaret's Bay ...   \n",
       "2           Armdale, Halifax to Bayers Lake, Halifax   \n",
       "3    North End, Halifax to Macdonald Bridge, Halifax   \n",
       "4        Larry Uteck, Halifax to Hospital in Halifax   \n",
       "\n",
       "             timestamp_local  \n",
       "0  2025-08-26 17:10:05-03:00  \n",
       "1  2025-08-26 17:10:05-03:00  \n",
       "2  2025-08-26 17:10:06-03:00  \n",
       "3  2025-08-26 17:10:06-03:00  \n",
       "4  2025-08-26 17:20:05-03:00  "
      ]
     },
     "metadata": {},
     "output_type": "display_data"
    }
   ],
   "source": [
    "# Set your project ID and bucket name\n",
    "project_id = 'dig-es-nws-gemini-projects'\n",
    "bucket_name = 'marketplace-commutes'\n",
    "\n",
    "# Initialize gcsfs\n",
    "gcs = gcsfs.GCSFileSystem(project=project_id)\n",
    "\n",
    "# List all CSV files in the bucket\n",
    "files = gcs.glob(f'gs://{bucket_name}/*.csv')\n",
    "\n",
    "print(files)\n",
    "\n",
    "# Read all CSV files into a list of DataFrames\n",
    "all_dfs = []\n",
    "for f in files:\n",
    "    df_temp = pd.read_csv(f\"gs://{f}\")\n",
    "    # Extract timezone from filename\n",
    "    filename = f.split('/')[-1]\n",
    "    if 'atlantic' in filename:\n",
    "        df_temp['timezone'] = 'America/Halifax'\n",
    "    elif 'central' in filename:\n",
    "        df_temp['timezone'] = 'America/Winnipeg'\n",
    "    elif 'eastern' in filename:\n",
    "        df_temp['timezone'] = 'America/Toronto'\n",
    "    elif 'mountain' in filename:\n",
    "        df_temp['timezone'] = 'America/Edmonton'\n",
    "    elif 'pacific' in filename:\n",
    "        df_temp['timezone'] = 'America/Vancouver'\n",
    "    else:\n",
    "        df_temp['timezone'] = 'UTC' # Default or handle as needed\n",
    "    all_dfs.append(df_temp)\n",
    "\n",
    "\n",
    "# Concatenate all DataFrames into a single DataFrame\n",
    "df = pd.concat(all_dfs, ignore_index=True)\n",
    "\n",
    "# Create a unique identifier for each route\n",
    "df['route_id'] = df['origin'] + ' to ' + df['destination']\n",
    "\n",
    "# --- Create timestamp_local column converting 'timestamp' into local time per-row ---\n",
    "# Parse 'timestamp' into UTC-aware Timestamps (assume UTC if timezone-naive)\n",
    "df['timestamp'] = pd.to_datetime(df['timestamp'], utc=True, errors='coerce')\n",
    "\n",
    "# Helper to convert a UTC-aware timestamp to a per-row timezone with safe fallback\n",
    "def _to_local(ts, tz):\n",
    "    try:\n",
    "        if pd.isna(ts):\n",
    "            return pd.NaT\n",
    "        if pd.isna(tz) or tz == '':\n",
    "            tz = 'UTC'\n",
    "        return ts.tz_convert(tz)\n",
    "    except Exception:\n",
    "        # If conversion fails (invalid tz string), return the original UTC timestamp\n",
    "        try:\n",
    "            return ts.tz_convert('UTC')\n",
    "        except Exception:\n",
    "            return pd.NaT\n",
    "\n",
    "# Apply conversion per-row (vectorized conversion per value isn't possible when tz varies by row)\n",
    "if 'timezone' in df.columns:\n",
    "    df['timestamp_local'] = df.apply(lambda r: _to_local(r['timestamp'], r['timezone']), axis=1)\n",
    "else:\n",
    "    # If timezone column is missing, fallback to UTC\n",
    "    df['timestamp_local'] = df['timestamp']\n",
    "\n",
    "# Display a quick sample to check results\n",
    "display(df.head())"
   ]
  },
  {
   "cell_type": "markdown",
   "id": "721201ee",
   "metadata": {},
   "source": [
    "I want to create a route_id from the origin and destination points in our routes file here so I can stitch it onto the data I'm reading in that we've collected."
   ]
  },
  {
   "cell_type": "markdown",
   "id": "09847736",
   "metadata": {},
   "source": [
    "How many routes are we tracking?"
   ]
  },
  {
   "cell_type": "code",
   "execution_count": 16,
   "id": "15603c07",
   "metadata": {},
   "outputs": [
    {
     "data": {
      "text/plain": [
       "55"
      ]
     },
     "execution_count": 16,
     "metadata": {},
     "output_type": "execute_result"
    }
   ],
   "source": [
    "len(df[\"route_id\"].unique())"
   ]
  },
  {
   "cell_type": "markdown",
   "id": "7afeed0d",
   "metadata": {},
   "source": [
    "Now I'd like to stitch on some extra data so we can tell which route was submitted by which person. This will add a \"notes\" column."
   ]
  },
  {
   "cell_type": "code",
   "execution_count": 17,
   "id": "4ed24a2b",
   "metadata": {},
   "outputs": [],
   "source": [
    "notes_df = pd.read_csv(\"data/dexter/commute_routes.csv\")\n",
    "\n",
    "notes_df['route_id'] = notes_df['origin'] + ' to ' + notes_df['destination']"
   ]
  },
  {
   "cell_type": "code",
   "execution_count": 18,
   "id": "c19e597b",
   "metadata": {},
   "outputs": [
    {
     "data": {
      "text/html": [
       "<div>\n",
       "<style scoped>\n",
       "    .dataframe tbody tr th:only-of-type {\n",
       "        vertical-align: middle;\n",
       "    }\n",
       "\n",
       "    .dataframe tbody tr th {\n",
       "        vertical-align: top;\n",
       "    }\n",
       "\n",
       "    .dataframe thead th {\n",
       "        text-align: right;\n",
       "    }\n",
       "</style>\n",
       "<table border=\"1\" class=\"dataframe\">\n",
       "  <thead>\n",
       "    <tr style=\"text-align: right;\">\n",
       "      <th></th>\n",
       "      <th>origin</th>\n",
       "      <th>destination</th>\n",
       "      <th>travel_mode</th>\n",
       "      <th>distance_km</th>\n",
       "      <th>duration_min</th>\n",
       "      <th>warnings</th>\n",
       "      <th>line_geometry</th>\n",
       "      <th>timestamp</th>\n",
       "      <th>timezone</th>\n",
       "      <th>route_id</th>\n",
       "      <th>timestamp_local</th>\n",
       "      <th>notes</th>\n",
       "    </tr>\n",
       "  </thead>\n",
       "  <tbody>\n",
       "    <tr>\n",
       "      <th>0</th>\n",
       "      <td>Larry Uteck, Halifax</td>\n",
       "      <td>Hospital in Halifax</td>\n",
       "      <td>DRIVE</td>\n",
       "      <td>10.113</td>\n",
       "      <td>20</td>\n",
       "      <td>NaN</td>\n",
       "      <td>LINESTRING (-63.67528 44.70207, -63.67451 44.7...</td>\n",
       "      <td>2025-08-26 20:10:05+00:00</td>\n",
       "      <td>America/Halifax</td>\n",
       "      <td>Larry Uteck, Halifax to Hospital in Halifax</td>\n",
       "      <td>2025-08-26 17:10:05-03:00</td>\n",
       "      <td>NaN</td>\n",
       "    </tr>\n",
       "    <tr>\n",
       "      <th>1</th>\n",
       "      <td>Windsor Street, Halifax</td>\n",
       "      <td>St. Margaret's Bay Road, Halifax</td>\n",
       "      <td>DRIVE</td>\n",
       "      <td>5.678</td>\n",
       "      <td>13</td>\n",
       "      <td>NaN</td>\n",
       "      <td>LINESTRING (-63.60553 44.65555, -63.60527 44.6...</td>\n",
       "      <td>2025-08-26 20:10:05+00:00</td>\n",
       "      <td>America/Halifax</td>\n",
       "      <td>Windsor Street, Halifax to St. Margaret's Bay ...</td>\n",
       "      <td>2025-08-26 17:10:05-03:00</td>\n",
       "      <td>NaN</td>\n",
       "    </tr>\n",
       "  </tbody>\n",
       "</table>\n",
       "</div>"
      ],
      "text/plain": [
       "                    origin                       destination travel_mode  \\\n",
       "0     Larry Uteck, Halifax               Hospital in Halifax       DRIVE   \n",
       "1  Windsor Street, Halifax  St. Margaret's Bay Road, Halifax       DRIVE   \n",
       "\n",
       "   distance_km  duration_min warnings  \\\n",
       "0       10.113            20      NaN   \n",
       "1        5.678            13      NaN   \n",
       "\n",
       "                                       line_geometry  \\\n",
       "0  LINESTRING (-63.67528 44.70207, -63.67451 44.7...   \n",
       "1  LINESTRING (-63.60553 44.65555, -63.60527 44.6...   \n",
       "\n",
       "                  timestamp         timezone  \\\n",
       "0 2025-08-26 20:10:05+00:00  America/Halifax   \n",
       "1 2025-08-26 20:10:05+00:00  America/Halifax   \n",
       "\n",
       "                                            route_id  \\\n",
       "0        Larry Uteck, Halifax to Hospital in Halifax   \n",
       "1  Windsor Street, Halifax to St. Margaret's Bay ...   \n",
       "\n",
       "             timestamp_local notes  \n",
       "0  2025-08-26 17:10:05-03:00   NaN  \n",
       "1  2025-08-26 17:10:05-03:00   NaN  "
      ]
     },
     "execution_count": 18,
     "metadata": {},
     "output_type": "execute_result"
    }
   ],
   "source": [
    "# Merge notes from the local CSV\n",
    "df = pd.merge(df, notes_df[['route_id', 'notes']], on='route_id', how='left')\n",
    "\n",
    "# Display the first few rows of the combined DataFrame\n",
    "df.head(2)"
   ]
  },
  {
   "cell_type": "markdown",
   "id": "41331e9e",
   "metadata": {},
   "source": [
    "Now let's get the hour from the localized timestamp and put it in a new column."
   ]
  },
  {
   "cell_type": "code",
   "execution_count": 19,
   "id": "1e01b0cd",
   "metadata": {},
   "outputs": [],
   "source": [
    "df['hour'] = df['timestamp_local'].apply(lambda ts: ts.hour if pd.notnull(ts) else pd.NA)"
   ]
  },
  {
   "cell_type": "markdown",
   "id": "e415465d",
   "metadata": {},
   "source": [
    "Now for some cleaning. I had changed the origin or destination for a few routes mid-collection, which means we need to change them back here. Otherwise, they'll show up as two different routes."
   ]
  },
  {
   "cell_type": "code",
   "execution_count": 20,
   "id": "b286e784",
   "metadata": {},
   "outputs": [],
   "source": [
    "df[\"route_id\"] = df[\"route_id\"].str.replace(\"44.41906079312099, -80.09223079949398\", \"Stayner, Ontario L0M 1S0\")\n",
    "df[\"route_id\"] = df[\"route_id\"].str.replace(\"44.672247457480196, -63.478352018683125\", \"Cole Harbour, Nova Scotia\")\n",
    "\n",
    "# Drop this route because it only collected a few times, and was returning wonky results.\n",
    "# I replaced it with a route using lat/lon coordinates instead.\n",
    "df = df[df['route_id'] != 'Westshore, Victoria to Downtown Victoria']"
   ]
  },
  {
   "cell_type": "markdown",
   "id": "7ba48ecc",
   "metadata": {},
   "source": [
    "Let's take a look at a few as an example."
   ]
  },
  {
   "cell_type": "code",
   "execution_count": 21,
   "id": "4458586d",
   "metadata": {},
   "outputs": [
    {
     "data": {
      "text/plain": [
       "['Larry Uteck, Halifax to Hospital in Halifax',\n",
       " \"Windsor Street, Halifax to St. Margaret's Bay Road, Halifax\",\n",
       " 'Armdale, Halifax to Bayers Lake, Halifax']"
      ]
     },
     "execution_count": 21,
     "metadata": {},
     "output_type": "execute_result"
    }
   ],
   "source": [
    "df[\"route_id\"].head(3).to_list()"
   ]
  },
  {
   "cell_type": "markdown",
   "id": "6c5622db",
   "metadata": {},
   "source": [
    "Now let's just see when this data starts and ends. Note I'm using the UTC timestamp to do this, and the \"real\" time I started and ended would be Toronto time."
   ]
  },
  {
   "cell_type": "code",
   "execution_count": 22,
   "id": "2aba1a95",
   "metadata": {},
   "outputs": [
    {
     "data": {
      "text/plain": [
       "Timestamp('2025-08-26 20:10:05+0000', tz='UTC')"
      ]
     },
     "metadata": {},
     "output_type": "display_data"
    },
    {
     "data": {
      "text/plain": [
       "Timestamp('2025-10-18 20:10:15+0000', tz='UTC')"
      ]
     },
     "metadata": {},
     "output_type": "display_data"
    }
   ],
   "source": [
    "(display(pd.to_datetime(df[\"timestamp\"], utc=True, errors='coerce').min(),\n",
    "         pd.to_datetime(df[\"timestamp\"], utc=True, errors='coerce').max()\n",
    "         )\n",
    " )"
   ]
  },
  {
   "cell_type": "code",
   "execution_count": 23,
   "id": "47f68671",
   "metadata": {},
   "outputs": [
    {
     "data": {
      "text/html": [
       "<div>\n",
       "<style scoped>\n",
       "    .dataframe tbody tr th:only-of-type {\n",
       "        vertical-align: middle;\n",
       "    }\n",
       "\n",
       "    .dataframe tbody tr th {\n",
       "        vertical-align: top;\n",
       "    }\n",
       "\n",
       "    .dataframe thead th {\n",
       "        text-align: right;\n",
       "    }\n",
       "</style>\n",
       "<table border=\"1\" class=\"dataframe\">\n",
       "  <thead>\n",
       "    <tr style=\"text-align: right;\">\n",
       "      <th></th>\n",
       "      <th>route_id</th>\n",
       "      <th>travel_mode</th>\n",
       "      <th>mean_off_peak_duration_min</th>\n",
       "      <th>mean_peak_duration_min</th>\n",
       "      <th>peak_vs_off_peak_mean_diff</th>\n",
       "      <th>notes</th>\n",
       "    </tr>\n",
       "  </thead>\n",
       "  <tbody>\n",
       "    <tr>\n",
       "      <th>0</th>\n",
       "      <td>Highway 401, Mississauga to Highway 401 and Do...</td>\n",
       "      <td>DRIVE</td>\n",
       "      <td>39.785797</td>\n",
       "      <td>48.149510</td>\n",
       "      <td>8.363713</td>\n",
       "      <td>NaN</td>\n",
       "    </tr>\n",
       "    <tr>\n",
       "      <th>1</th>\n",
       "      <td>Cloverdale, Surrey to Richmond/Vancouver</td>\n",
       "      <td>DRIVE</td>\n",
       "      <td>53.081967</td>\n",
       "      <td>60.620283</td>\n",
       "      <td>7.538316</td>\n",
       "      <td>NaN</td>\n",
       "    </tr>\n",
       "    <tr>\n",
       "      <th>2</th>\n",
       "      <td>Port Coquitlam, BC to Richmond Sea Island, BC</td>\n",
       "      <td>DRIVE</td>\n",
       "      <td>50.471230</td>\n",
       "      <td>55.336039</td>\n",
       "      <td>4.864809</td>\n",
       "      <td>NaN</td>\n",
       "    </tr>\n",
       "    <tr>\n",
       "      <th>3</th>\n",
       "      <td>Gardiner Expressway and Highway 427, Toronto t...</td>\n",
       "      <td>DRIVE</td>\n",
       "      <td>18.468989</td>\n",
       "      <td>21.919811</td>\n",
       "      <td>3.450823</td>\n",
       "      <td>NaN</td>\n",
       "    </tr>\n",
       "    <tr>\n",
       "      <th>4</th>\n",
       "      <td>The Beaches, Toronto, ON to CBC Toronto, Canad...</td>\n",
       "      <td>DRIVE</td>\n",
       "      <td>22.351822</td>\n",
       "      <td>25.437908</td>\n",
       "      <td>3.086087</td>\n",
       "      <td>Submitted by Dana Dragone</td>\n",
       "    </tr>\n",
       "  </tbody>\n",
       "</table>\n",
       "</div>"
      ],
      "text/plain": [
       "                                            route_id travel_mode  \\\n",
       "0  Highway 401, Mississauga to Highway 401 and Do...       DRIVE   \n",
       "1           Cloverdale, Surrey to Richmond/Vancouver       DRIVE   \n",
       "2      Port Coquitlam, BC to Richmond Sea Island, BC       DRIVE   \n",
       "3  Gardiner Expressway and Highway 427, Toronto t...       DRIVE   \n",
       "4  The Beaches, Toronto, ON to CBC Toronto, Canad...       DRIVE   \n",
       "\n",
       "   mean_off_peak_duration_min  mean_peak_duration_min  \\\n",
       "0                   39.785797               48.149510   \n",
       "1                   53.081967               60.620283   \n",
       "2                   50.471230               55.336039   \n",
       "3                   18.468989               21.919811   \n",
       "4                   22.351822               25.437908   \n",
       "\n",
       "   peak_vs_off_peak_mean_diff                      notes  \n",
       "0                    8.363713                        NaN  \n",
       "1                    7.538316                        NaN  \n",
       "2                    4.864809                        NaN  \n",
       "3                    3.450823                        NaN  \n",
       "4                    3.086087  Submitted by Dana Dragone  "
      ]
     },
     "metadata": {},
     "output_type": "display_data"
    }
   ],
   "source": [
    "# Filter for off-peak hours\n",
    "off_peak_df = df[~((df['hour'] >= 7) & (df['hour'] < 9) | (df['hour'] >= 17) & (df['hour'] < 19))]\n",
    "\n",
    "# Calculate the mean travel time for each route during off-peak hours\n",
    "off_peak_stats = off_peak_df.groupby(['route_id', 'travel_mode'])['duration_min'].agg(['mean']).reset_index()\n",
    "off_peak_stats.columns = ['route_id', 'travel_mode', 'mean_off_peak_duration_min']\n",
    "\n",
    "# Filter for peak hours\n",
    "peak_df = df[((df['hour'] >= 8) & (df['hour'] < 10) | (df['hour'] >= 17) & (df['hour'] < 19))]\n",
    "\n",
    "# Calculate the median and 95th percentile travel time for each route during peak hours\n",
    "peak_stats = peak_df.groupby(['route_id', 'travel_mode'])['duration_min'].agg(['mean']).reset_index()\n",
    "peak_stats.columns = ['route_id', 'travel_mode', 'mean_peak_duration_min']\n",
    "\n",
    "# Merge the stats\n",
    "final_stats = pd.merge(off_peak_stats, peak_stats, on=['route_id', 'travel_mode'], how='left')\n",
    "\n",
    "# Add calculated columns\n",
    "final_stats['peak_vs_off_peak_mean_diff'] = final_stats['mean_peak_duration_min'] - final_stats['mean_off_peak_duration_min']\n",
    "\n",
    "# Calculate the score and sort by it\n",
    "final_stats = final_stats.sort_values(by='peak_vs_off_peak_mean_diff', ascending=False)\n",
    "\n",
    "# Merge notes from the read-in commute_routes.csv (if available)\n",
    "if 'notes' in locals() or 'notes_df' in globals():\n",
    "    try:\n",
    "        final_stats = final_stats.merge(notes_df[['route_id', 'notes']], on='route_id', how='left')\n",
    "    except Exception:\n",
    "        # if merge fails for any reason, create an empty notes column\n",
    "        final_stats['notes'] = ''\n",
    "else:\n",
    "    final_stats['notes'] = ''\n",
    "\n",
    "# Display the final table with notes\n",
    "display(final_stats.head())"
   ]
  },
  {
   "cell_type": "code",
   "execution_count": 25,
   "id": "f798a9e6",
   "metadata": {},
   "outputs": [],
   "source": [
    "final_stats.to_csv(\"results-dexter.csv\")"
   ]
  },
  {
   "cell_type": "code",
   "execution_count": 24,
   "id": "de659282",
   "metadata": {},
   "outputs": [
    {
     "data": {
      "text/plain": [
       "travel_mode\n",
       "DRIVE      32\n",
       "TRANSIT    14\n",
       "BICYCLE     9\n",
       "Name: count, dtype: int64"
      ]
     },
     "execution_count": 24,
     "metadata": {},
     "output_type": "execute_result"
    }
   ],
   "source": [
    "final_stats[\"travel_mode\"].value_counts()"
   ]
  }
 ],
 "metadata": {
  "kernelspec": {
   "display_name": "2025-marketplace-commuteroutes (3.12.10)",
   "language": "python",
   "name": "python3"
  },
  "language_info": {
   "codemirror_mode": {
    "name": "ipython",
    "version": 3
   },
   "file_extension": ".py",
   "mimetype": "text/x-python",
   "name": "python",
   "nbconvert_exporter": "python",
   "pygments_lexer": "ipython3",
   "version": "3.12.10"
  }
 },
 "nbformat": 4,
 "nbformat_minor": 5
}
